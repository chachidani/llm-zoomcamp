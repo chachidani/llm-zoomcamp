{
 "cells": [
  {
   "cell_type": "code",
   "execution_count": 6,
   "id": "5d83472b-1fa8-41f4-a960-f83eab8ca27b",
   "metadata": {},
   "outputs": [],
   "source": [
    "import openai"
   ]
  },
  {
   "cell_type": "code",
   "execution_count": 7,
   "id": "e35c1b1e-7165-445f-a6d3-ff410ee31365",
   "metadata": {},
   "outputs": [],
   "source": [
    "from openai import OpenAI"
   ]
  },
  {
   "cell_type": "code",
   "execution_count": 8,
   "id": "05ea8f3e-ef19-4db7-9634-ca1f735a1813",
   "metadata": {},
   "outputs": [],
   "source": [
    "client = OpenAI()"
   ]
  },
  {
   "cell_type": "code",
   "execution_count": 9,
   "id": "ed6efd64-0657-4fdc-93fc-adc917c3ff35",
   "metadata": {},
   "outputs": [],
   "source": [
    "import os"
   ]
  },
  {
   "cell_type": "code",
   "execution_count": 12,
   "id": "846c6826-fff7-47d8-991c-b834f430c351",
   "metadata": {},
   "outputs": [],
   "source": [
    "response = client.chat.completions.create(\n",
    "    model='gpt-4o',\n",
    "    messages=[{\"role\":\"user\", \"content\":\"is it too late to join the course?\"}]\n",
    ")"
   ]
  },
  {
   "cell_type": "code",
   "execution_count": 14,
   "id": "b886566a-0922-4065-82ca-b222fddd3318",
   "metadata": {},
   "outputs": [
    {
     "data": {
      "text/plain": [
       "\"I would need more specific information to accurately answer your question. It depends on the course's enrollment period, start date, and any deadlines that might be in place. I recommend checking the course details on the provider's website or contacting the course administrator directly to find out if enrollment is still open.\""
      ]
     },
     "execution_count": 14,
     "metadata": {},
     "output_type": "execute_result"
    }
   ],
   "source": [
    "response.choices[0].message.content"
   ]
  },
  {
   "cell_type": "code",
   "execution_count": null,
   "id": "59289b65-7506-426f-b960-5377bdf0d28a",
   "metadata": {},
   "outputs": [],
   "source": []
  }
 ],
 "metadata": {
  "kernelspec": {
   "display_name": "Python 3 (ipykernel)",
   "language": "python",
   "name": "python3"
  },
  "language_info": {
   "codemirror_mode": {
    "name": "ipython",
    "version": 3
   },
   "file_extension": ".py",
   "mimetype": "text/x-python",
   "name": "python",
   "nbconvert_exporter": "python",
   "pygments_lexer": "ipython3",
   "version": "3.12.1"
  }
 },
 "nbformat": 4,
 "nbformat_minor": 5
}
